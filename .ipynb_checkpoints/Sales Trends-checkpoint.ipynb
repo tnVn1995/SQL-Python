{
 "cells": [
  {
   "cell_type": "code",
   "execution_count": 3,
   "metadata": {},
   "outputs": [],
   "source": [
    "import pandas as pd\n",
    "import numpy as np\n",
    "from sqlalchemy import create_engine, inspect\n",
    "from pathlib import Path\n",
    "import matplotlib.pyplot as plt\n",
    "%matplotlib inline\n",
    "import warnings\n",
    "warnings.simplefilter(action='ignore', category=FutureWarning)\n",
    "pd.options.mode.chained_assignment = None"
   ]
  },
  {
   "cell_type": "code",
   "execution_count": 2,
   "metadata": {},
   "outputs": [
    {
     "data": {
      "text/plain": [
       "WindowsPath('C:/Users/tnguy/personal_projects/SQL/The-Applied-SQL-Data-Analytics-Workshop/Datasets/public_transportation_statistics_by_zip_code.csv')"
      ]
     },
     "execution_count": 2,
     "metadata": {},
     "output_type": "execute_result"
    }
   ],
   "source": [
    "file_path = Path(r'C:\\Users\\tnguy\\personal_projects\\SQL\\The-Applied-SQL-Data-Analytics-Workshop\\Datasets')\n",
    "file = list(file_path.glob('*by_zip_code.csv'))[0]\n",
    "file"
   ]
  },
  {
   "cell_type": "markdown",
   "metadata": {},
   "source": [
    "## Create Connection to Postgres"
   ]
  },
  {
   "cell_type": "code",
   "execution_count": 5,
   "metadata": {},
   "outputs": [],
   "source": [
    "# %load loadcreds.py\n",
    "import json\n",
    "with open('keys.json') as f:\n",
    "    data = json.load(f)\n",
    "\n",
    "username=data['username']\n",
    "pswd=data['pswd']\n",
    "host=data['host']\n",
    "port=5432\n",
    "database=data['database']\n",
    "cnxn_string=f\"\"\"postgresql+psycopg2://{username}:{pswd}@{host}:{port}/{database}\"\"\"\n",
    "engine = create_engine(cnxn_string)\n"
   ]
  },
  {
   "cell_type": "code",
   "execution_count": 4,
   "metadata": {},
   "outputs": [
    {
     "data": {
      "text/html": [
       "<div>\n",
       "<style scoped>\n",
       "    .dataframe tbody tr th:only-of-type {\n",
       "        vertical-align: middle;\n",
       "    }\n",
       "\n",
       "    .dataframe tbody tr th {\n",
       "        vertical-align: top;\n",
       "    }\n",
       "\n",
       "    .dataframe thead th {\n",
       "        text-align: right;\n",
       "    }\n",
       "</style>\n",
       "<table border=\"1\" class=\"dataframe\">\n",
       "  <thead>\n",
       "    <tr style=\"text-align: right;\">\n",
       "      <th></th>\n",
       "      <th>zip_code</th>\n",
       "      <th>public_transportation_pct</th>\n",
       "      <th>public_transportation_population</th>\n",
       "    </tr>\n",
       "  </thead>\n",
       "  <tbody>\n",
       "    <tr>\n",
       "      <th>0</th>\n",
       "      <td>1379</td>\n",
       "      <td>3.3</td>\n",
       "      <td>13</td>\n",
       "    </tr>\n",
       "    <tr>\n",
       "      <th>1</th>\n",
       "      <td>1440</td>\n",
       "      <td>0.4</td>\n",
       "      <td>34</td>\n",
       "    </tr>\n",
       "    <tr>\n",
       "      <th>2</th>\n",
       "      <td>1505</td>\n",
       "      <td>0.9</td>\n",
       "      <td>23</td>\n",
       "    </tr>\n",
       "    <tr>\n",
       "      <th>3</th>\n",
       "      <td>1524</td>\n",
       "      <td>0.5</td>\n",
       "      <td>20</td>\n",
       "    </tr>\n",
       "    <tr>\n",
       "      <th>4</th>\n",
       "      <td>1529</td>\n",
       "      <td>1.8</td>\n",
       "      <td>32</td>\n",
       "    </tr>\n",
       "  </tbody>\n",
       "</table>\n",
       "</div>"
      ],
      "text/plain": [
       "   zip_code  public_transportation_pct  public_transportation_population\n",
       "0      1379                        3.3                                13\n",
       "1      1440                        0.4                                34\n",
       "2      1505                        0.9                                23\n",
       "3      1524                        0.5                                20\n",
       "4      1529                        1.8                                32"
      ]
     },
     "execution_count": 4,
     "metadata": {},
     "output_type": "execute_result"
    }
   ],
   "source": [
    "data = pd.read_csv(file)\n",
    "data.head()"
   ]
  },
  {
   "cell_type": "code",
   "execution_count": 9,
   "metadata": {},
   "outputs": [
    {
     "data": {
      "text/plain": [
       "(33120, 3)"
      ]
     },
     "execution_count": 9,
     "metadata": {},
     "output_type": "execute_result"
    }
   ],
   "source": [
    "data.shape"
   ]
  },
  {
   "cell_type": "code",
   "execution_count": 5,
   "metadata": {},
   "outputs": [],
   "source": [
    "# Insert Public Transporation Data into Postgresql\n",
    "data.to_sql('public_transportation', engine, index=False, if_exists='replace')"
   ]
  },
  {
   "cell_type": "markdown",
   "metadata": {},
   "source": [
    "## Exploratory Data Analysis"
   ]
  },
  {
   "cell_type": "markdown",
   "metadata": {},
   "source": [
    "### Maximum and Minimum public_transportation_pct"
   ]
  },
  {
   "cell_type": "code",
   "execution_count": 6,
   "metadata": {},
   "outputs": [
    {
     "data": {
      "text/html": [
       "<div>\n",
       "<style scoped>\n",
       "    .dataframe tbody tr th:only-of-type {\n",
       "        vertical-align: middle;\n",
       "    }\n",
       "\n",
       "    .dataframe tbody tr th {\n",
       "        vertical-align: top;\n",
       "    }\n",
       "\n",
       "    .dataframe thead th {\n",
       "        text-align: right;\n",
       "    }\n",
       "</style>\n",
       "<table border=\"1\" class=\"dataframe\">\n",
       "  <thead>\n",
       "    <tr style=\"text-align: right;\">\n",
       "      <th></th>\n",
       "      <th>min</th>\n",
       "      <th>max</th>\n",
       "    </tr>\n",
       "  </thead>\n",
       "  <tbody>\n",
       "    <tr>\n",
       "      <th>0</th>\n",
       "      <td>0.0</td>\n",
       "      <td>100.0</td>\n",
       "    </tr>\n",
       "  </tbody>\n",
       "</table>\n",
       "</div>"
      ],
      "text/plain": [
       "   min    max\n",
       "0  0.0  100.0"
      ]
     },
     "execution_count": 6,
     "metadata": {},
     "output_type": "execute_result"
    }
   ],
   "source": [
    "min_max = pd.read_sql_query('''SELECT MIN(public_transportation_pct) As min,\n",
    "                                    MAX(public_transportation_pct) As max\n",
    "                                    FROM public_transportation\n",
    "                                    WHERE public_transportation_pct >= 0''', engine)\n",
    "min_max"
   ]
  },
  {
   "cell_type": "code",
   "execution_count": 26,
   "metadata": {},
   "outputs": [
    {
     "data": {
      "text/html": [
       "<div>\n",
       "<style scoped>\n",
       "    .dataframe tbody tr th:only-of-type {\n",
       "        vertical-align: middle;\n",
       "    }\n",
       "\n",
       "    .dataframe tbody tr th {\n",
       "        vertical-align: top;\n",
       "    }\n",
       "\n",
       "    .dataframe thead th {\n",
       "        text-align: right;\n",
       "    }\n",
       "</style>\n",
       "<table border=\"1\" class=\"dataframe\">\n",
       "  <thead>\n",
       "    <tr style=\"text-align: right;\">\n",
       "      <th></th>\n",
       "      <th>min</th>\n",
       "      <th>max</th>\n",
       "    </tr>\n",
       "  </thead>\n",
       "  <tbody>\n",
       "    <tr>\n",
       "      <th>0</th>\n",
       "      <td>0.0</td>\n",
       "      <td>100.0</td>\n",
       "    </tr>\n",
       "  </tbody>\n",
       "</table>\n",
       "</div>"
      ],
      "text/plain": [
       "   min    max\n",
       "0  0.0  100.0"
      ]
     },
     "execution_count": 26,
     "metadata": {},
     "output_type": "execute_result"
    }
   ],
   "source": [
    "# pandas equivalent\n",
    "data1 = data.loc[data.public_transportation_pct >= 0]\n",
    "min_max= {'min':[data1.public_transportation_pct.min()],'max':[data1.public_transportation_pct.max()]}\n",
    "pd.DataFrame(min_max)"
   ]
  },
  {
   "cell_type": "markdown",
   "metadata": {},
   "source": [
    "### Average Sales Amount for customers that live in high public transportation usage regions (> 10%) and low ones (<= 10%)\n",
    "\n",
    "We'll need to get information from customers, sales amount for those customers and their corresponding public transportation regions"
   ]
  },
  {
   "cell_type": "code",
   "execution_count": 8,
   "metadata": {},
   "outputs": [
    {
     "name": "stdout",
     "output_type": "stream",
     "text": [
      "closest_dealerships\n",
      "countries\n",
      "customer_sales\n",
      "customer_survey\n",
      "public_transportation_by_zip\n",
      "customers\n",
      "dealerships\n",
      "emails\n",
      "products\n",
      "sales\n",
      "salespeople\n",
      "public_transportation\n",
      "top_cities_data\n"
     ]
    }
   ],
   "source": [
    "# Tables listing\n",
    "inspector = inspect(engine)\n",
    "for table_name in inspector.get_table_names():\n",
    "    print(table_name)"
   ]
  },
  {
   "cell_type": "code",
   "execution_count": 9,
   "metadata": {},
   "outputs": [
    {
     "data": {
      "text/html": [
       "<div>\n",
       "<style scoped>\n",
       "    .dataframe tbody tr th:only-of-type {\n",
       "        vertical-align: middle;\n",
       "    }\n",
       "\n",
       "    .dataframe tbody tr th {\n",
       "        vertical-align: top;\n",
       "    }\n",
       "\n",
       "    .dataframe thead th {\n",
       "        text-align: right;\n",
       "    }\n",
       "</style>\n",
       "<table border=\"1\" class=\"dataframe\">\n",
       "  <thead>\n",
       "    <tr style=\"text-align: right;\">\n",
       "      <th></th>\n",
       "      <th>customer_id</th>\n",
       "      <th>product_id</th>\n",
       "      <th>sales_transaction_date</th>\n",
       "      <th>sales_amount</th>\n",
       "      <th>channel</th>\n",
       "      <th>dealership_id</th>\n",
       "    </tr>\n",
       "  </thead>\n",
       "  <tbody>\n",
       "    <tr>\n",
       "      <th>0</th>\n",
       "      <td>1</td>\n",
       "      <td>7</td>\n",
       "      <td>2017-07-19 08:38:41</td>\n",
       "      <td>479.992</td>\n",
       "      <td>internet</td>\n",
       "      <td>NaN</td>\n",
       "    </tr>\n",
       "    <tr>\n",
       "      <th>1</th>\n",
       "      <td>22</td>\n",
       "      <td>7</td>\n",
       "      <td>2017-08-14 09:59:02</td>\n",
       "      <td>599.990</td>\n",
       "      <td>dealership</td>\n",
       "      <td>20.0</td>\n",
       "    </tr>\n",
       "    <tr>\n",
       "      <th>2</th>\n",
       "      <td>145</td>\n",
       "      <td>7</td>\n",
       "      <td>2019-01-20 10:40:11</td>\n",
       "      <td>479.992</td>\n",
       "      <td>internet</td>\n",
       "      <td>NaN</td>\n",
       "    </tr>\n",
       "    <tr>\n",
       "      <th>3</th>\n",
       "      <td>289</td>\n",
       "      <td>7</td>\n",
       "      <td>2017-05-09 14:20:04</td>\n",
       "      <td>539.991</td>\n",
       "      <td>dealership</td>\n",
       "      <td>7.0</td>\n",
       "    </tr>\n",
       "    <tr>\n",
       "      <th>4</th>\n",
       "      <td>331</td>\n",
       "      <td>7</td>\n",
       "      <td>2019-05-21 20:03:21</td>\n",
       "      <td>539.991</td>\n",
       "      <td>dealership</td>\n",
       "      <td>4.0</td>\n",
       "    </tr>\n",
       "  </tbody>\n",
       "</table>\n",
       "</div>"
      ],
      "text/plain": [
       "   customer_id  product_id sales_transaction_date  sales_amount     channel  \\\n",
       "0            1           7    2017-07-19 08:38:41       479.992    internet   \n",
       "1           22           7    2017-08-14 09:59:02       599.990  dealership   \n",
       "2          145           7    2019-01-20 10:40:11       479.992    internet   \n",
       "3          289           7    2017-05-09 14:20:04       539.991  dealership   \n",
       "4          331           7    2019-05-21 20:03:21       539.991  dealership   \n",
       "\n",
       "   dealership_id  \n",
       "0            NaN  \n",
       "1           20.0  \n",
       "2            NaN  \n",
       "3            7.0  \n",
       "4            4.0  "
      ]
     },
     "execution_count": 9,
     "metadata": {},
     "output_type": "execute_result"
    }
   ],
   "source": [
    "# Get sales info\n",
    "sales = pd.read_sql_query('''SELECT * FROM sales;''',engine)\n",
    "sales.head()"
   ]
  },
  {
   "cell_type": "markdown",
   "metadata": {},
   "source": [
    "The sales table contains information about sales_amount, which is what we're interested in knowing. However, it doesn't tell us where the customers are."
   ]
  },
  {
   "cell_type": "code",
   "execution_count": 43,
   "metadata": {},
   "outputs": [
    {
     "data": {
      "text/html": [
       "<div>\n",
       "<style scoped>\n",
       "    .dataframe tbody tr th:only-of-type {\n",
       "        vertical-align: middle;\n",
       "    }\n",
       "\n",
       "    .dataframe tbody tr th {\n",
       "        vertical-align: top;\n",
       "    }\n",
       "\n",
       "    .dataframe thead th {\n",
       "        text-align: right;\n",
       "    }\n",
       "</style>\n",
       "<table border=\"1\" class=\"dataframe\">\n",
       "  <thead>\n",
       "    <tr style=\"text-align: right;\">\n",
       "      <th></th>\n",
       "      <th>customer_id</th>\n",
       "      <th>title</th>\n",
       "      <th>first_name</th>\n",
       "      <th>last_name</th>\n",
       "      <th>suffix</th>\n",
       "      <th>email</th>\n",
       "      <th>gender</th>\n",
       "      <th>ip_address</th>\n",
       "      <th>phone</th>\n",
       "      <th>street_address</th>\n",
       "      <th>city</th>\n",
       "      <th>state</th>\n",
       "      <th>postal_code</th>\n",
       "      <th>latitude</th>\n",
       "      <th>longitude</th>\n",
       "      <th>date_added</th>\n",
       "    </tr>\n",
       "  </thead>\n",
       "  <tbody>\n",
       "    <tr>\n",
       "      <th>0</th>\n",
       "      <td>2</td>\n",
       "      <td>Dr</td>\n",
       "      <td>Ode</td>\n",
       "      <td>Stovin</td>\n",
       "      <td>None</td>\n",
       "      <td>ostovin1@npr.org</td>\n",
       "      <td>M</td>\n",
       "      <td>16.97.59.186</td>\n",
       "      <td>314-534-4361</td>\n",
       "      <td>2573 Fordem Parkway</td>\n",
       "      <td>Saint Louis</td>\n",
       "      <td>MO</td>\n",
       "      <td>63116</td>\n",
       "      <td>38.5814</td>\n",
       "      <td>-90.2625</td>\n",
       "      <td>2014-10-02</td>\n",
       "    </tr>\n",
       "    <tr>\n",
       "      <th>1</th>\n",
       "      <td>3</td>\n",
       "      <td>None</td>\n",
       "      <td>Braden</td>\n",
       "      <td>Jordan</td>\n",
       "      <td>None</td>\n",
       "      <td>bjordan2@geocities.com</td>\n",
       "      <td>M</td>\n",
       "      <td>192.86.248.59</td>\n",
       "      <td>None</td>\n",
       "      <td>5651 Kennedy Park</td>\n",
       "      <td>Pensacola</td>\n",
       "      <td>FL</td>\n",
       "      <td>32590</td>\n",
       "      <td>30.6143</td>\n",
       "      <td>-87.2758</td>\n",
       "      <td>2018-10-27</td>\n",
       "    </tr>\n",
       "    <tr>\n",
       "      <th>2</th>\n",
       "      <td>4</td>\n",
       "      <td>None</td>\n",
       "      <td>Jessika</td>\n",
       "      <td>Nussen</td>\n",
       "      <td>None</td>\n",
       "      <td>jnussen3@salon.com</td>\n",
       "      <td>F</td>\n",
       "      <td>159.165.138.166</td>\n",
       "      <td>615-824-2506</td>\n",
       "      <td>224 Village Circle</td>\n",
       "      <td>Nashville</td>\n",
       "      <td>TN</td>\n",
       "      <td>37215</td>\n",
       "      <td>36.0986</td>\n",
       "      <td>-86.8219</td>\n",
       "      <td>2017-09-03</td>\n",
       "    </tr>\n",
       "    <tr>\n",
       "      <th>3</th>\n",
       "      <td>5</td>\n",
       "      <td>None</td>\n",
       "      <td>Lonnie</td>\n",
       "      <td>Rembaud</td>\n",
       "      <td>None</td>\n",
       "      <td>lrembaud4@discovery.com</td>\n",
       "      <td>F</td>\n",
       "      <td>18.131.58.65</td>\n",
       "      <td>786-499-3431</td>\n",
       "      <td>38 Lindbergh Way</td>\n",
       "      <td>Miami</td>\n",
       "      <td>FL</td>\n",
       "      <td>33124</td>\n",
       "      <td>25.5584</td>\n",
       "      <td>-80.4582</td>\n",
       "      <td>2014-03-06</td>\n",
       "    </tr>\n",
       "    <tr>\n",
       "      <th>4</th>\n",
       "      <td>6</td>\n",
       "      <td>None</td>\n",
       "      <td>Cortie</td>\n",
       "      <td>Locksley</td>\n",
       "      <td>None</td>\n",
       "      <td>clocksley5@weather.com</td>\n",
       "      <td>M</td>\n",
       "      <td>140.194.59.82</td>\n",
       "      <td>None</td>\n",
       "      <td>6537 Delladonna Drive</td>\n",
       "      <td>Miami</td>\n",
       "      <td>FL</td>\n",
       "      <td>33158</td>\n",
       "      <td>25.6364</td>\n",
       "      <td>-80.3187</td>\n",
       "      <td>2013-03-31</td>\n",
       "    </tr>\n",
       "  </tbody>\n",
       "</table>\n",
       "</div>"
      ],
      "text/plain": [
       "   customer_id title first_name last_name suffix                    email  \\\n",
       "0            2    Dr        Ode    Stovin   None         ostovin1@npr.org   \n",
       "1            3  None     Braden    Jordan   None   bjordan2@geocities.com   \n",
       "2            4  None    Jessika    Nussen   None       jnussen3@salon.com   \n",
       "3            5  None     Lonnie   Rembaud   None  lrembaud4@discovery.com   \n",
       "4            6  None     Cortie  Locksley   None   clocksley5@weather.com   \n",
       "\n",
       "  gender       ip_address         phone         street_address         city  \\\n",
       "0      M     16.97.59.186  314-534-4361    2573 Fordem Parkway  Saint Louis   \n",
       "1      M    192.86.248.59          None      5651 Kennedy Park    Pensacola   \n",
       "2      F  159.165.138.166  615-824-2506     224 Village Circle    Nashville   \n",
       "3      F     18.131.58.65  786-499-3431       38 Lindbergh Way        Miami   \n",
       "4      M    140.194.59.82          None  6537 Delladonna Drive        Miami   \n",
       "\n",
       "  state postal_code  latitude  longitude date_added  \n",
       "0    MO       63116   38.5814   -90.2625 2014-10-02  \n",
       "1    FL       32590   30.6143   -87.2758 2018-10-27  \n",
       "2    TN       37215   36.0986   -86.8219 2017-09-03  \n",
       "3    FL       33124   25.5584   -80.4582 2014-03-06  \n",
       "4    FL       33158   25.6364   -80.3187 2013-03-31  "
      ]
     },
     "execution_count": 43,
     "metadata": {},
     "output_type": "execute_result"
    }
   ],
   "source": [
    "# Get customer info\n",
    "customers = pd.read_sql_query('''SELECT * FROM customers\n",
    "                            WHERE postal_code IS NOT NULL;''',engine)\n",
    "customers.head()\n",
    "# customers['postal_code'][0]"
   ]
  },
  {
   "cell_type": "code",
   "execution_count": 99,
   "metadata": {},
   "outputs": [
    {
     "data": {
      "text/plain": [
       "level_0                               int64\n",
       "index                                 int64\n",
       "zip_code                              int64\n",
       "public_transportation_pct           float64\n",
       "public_transportation_population      int64\n",
       "dtype: object"
      ]
     },
     "execution_count": 99,
     "metadata": {},
     "output_type": "execute_result"
    }
   ],
   "source": [
    "public_transportation = pd.read_sql_query('''SELECT * FROM public_transportation_by_zip \n",
    "                                                WHERE public_transportation_pct > 0\n",
    "                                                ;''', engine)\n",
    "public_transportation.zip_code = public_transportation.zip_code.astype('int64')\n",
    "public_transportation.dtypes"
   ]
  },
  {
   "cell_type": "code",
   "execution_count": 97,
   "metadata": {},
   "outputs": [
    {
     "data": {
      "text/html": [
       "<div>\n",
       "<style scoped>\n",
       "    .dataframe tbody tr th:only-of-type {\n",
       "        vertical-align: middle;\n",
       "    }\n",
       "\n",
       "    .dataframe tbody tr th {\n",
       "        vertical-align: top;\n",
       "    }\n",
       "\n",
       "    .dataframe thead th {\n",
       "        text-align: right;\n",
       "    }\n",
       "</style>\n",
       "<table border=\"1\" class=\"dataframe\">\n",
       "  <thead>\n",
       "    <tr style=\"text-align: right;\">\n",
       "      <th></th>\n",
       "      <th>trans_usage</th>\n",
       "      <th>avg_sales</th>\n",
       "    </tr>\n",
       "  </thead>\n",
       "  <tbody>\n",
       "    <tr>\n",
       "      <th>0</th>\n",
       "      <td>high_density</td>\n",
       "      <td>6469.302677</td>\n",
       "    </tr>\n",
       "    <tr>\n",
       "      <th>1</th>\n",
       "      <td>low_density</td>\n",
       "      <td>7170.244985</td>\n",
       "    </tr>\n",
       "  </tbody>\n",
       "</table>\n",
       "</div>"
      ],
      "text/plain": [
       "    trans_usage    avg_sales\n",
       "0  high_density  6469.302677\n",
       "1   low_density  7170.244985"
      ]
     },
     "execution_count": 97,
     "metadata": {},
     "output_type": "execute_result"
    }
   ],
   "source": [
    "customers_sales = pd.read_sql_query('''\n",
    "With customer_sales as \n",
    "(SELECT c.customer_id, c.postal_code, s.sales_amount\n",
    "    FROM customers c\n",
    "    LEFT JOIN sales s ON c.customer_id = s.customer_id\n",
    "    WHERE c.city IS NOT NULL),\n",
    "density as (\n",
    "SELECT c.customer_id, c.postal_code, c.sales_amount, p.public_transportation_pct,\n",
    "CASE WHEN p.public_transportation_pct BETWEEN 0.0 AND 10.0 THEN 'low_density'\n",
    "WHEN p.public_transportation_pct > 0.1 THEN 'high_density'\n",
    "ELSE 'other' END AS trans_usage\n",
    "FROM customer_sales c \n",
    "JOIN public_transportation_by_zip p ON c.postal_code = p.zip_code\n",
    "WHERE p.public_transportation_pct BETWEEN 0.0 AND 10.0\n",
    "OR p.public_transportation_pct > 10.0)\n",
    "SELECT trans_usage, AVG(sales_amount) avg_sales\n",
    "FROM density\n",
    "GROUP BY trans_usage\n",
    ";''', engine)\n",
    "customers_sales.head()"
   ]
  },
  {
   "cell_type": "code",
   "execution_count": 98,
   "metadata": {},
   "outputs": [
    {
     "data": {
      "text/plain": [
       "public_transUsage\n",
       "high density    6469.302677\n",
       "low density     7170.244985\n",
       "Name: sales_amount, dtype: float64"
      ]
     },
     "execution_count": 98,
     "metadata": {},
     "output_type": "execute_result"
    }
   ],
   "source": [
    "# Pandas Equivalent\n",
    "customer_sales = pd.merge(customers, sales, how='left', on='customer_id')\n",
    "columns = ['customer_id', 'postal_code', 'sales_amount']\n",
    "customer_sales = customer_sales[columns]\n",
    "customer_sales.postal_code = customer_sales.postal_code.astype('int64')\n",
    "# customer_sales['postal_code'].fillna(0, inplace=True)\n",
    "customerSales_transUsage = pd.merge(customer_sales, public_transportation, \n",
    "                                    how='inner', left_on='postal_code',right_on='zip_code')\n",
    "columns = ['customer_id', 'postal_code', 'sales_amount','public_transportation_pct']\n",
    "filtered_customer_sales = customerSales_transUsage[columns]\n",
    "filtered_customer_sales.dropna(inplace=True)\n",
    "conditions = [\n",
    "    (filtered_customer_sales['public_transportation_pct'] >= 0) \n",
    "    & (filtered_customer_sales['public_transportation_pct'] <= 10),\n",
    "    (filtered_customer_sales['public_transportation_pct'] > 10),\n",
    "    (filtered_customer_sales['public_transportation_pct'] < 0) \n",
    "]\n",
    "choices = ['low density','high density','other']\n",
    "filtered_customer_sales['public_transUsage'] = np.select(conditions, choices, default='other')\n",
    "filtered_customer_sales.groupby('public_transUsage')['sales_amount'].mean()"
   ]
  },
  {
   "cell_type": "markdown",
   "metadata": {},
   "source": [
    "The average sales amount shows that regions with low public transportation usage have higher sales amount."
   ]
  },
  {
   "cell_type": "markdown",
   "metadata": {},
   "source": [
    "### Distribution of Public Transportation Usage"
   ]
  },
  {
   "cell_type": "code",
   "execution_count": 101,
   "metadata": {},
   "outputs": [
    {
     "data": {
      "text/plain": [
       "Text(0,0.5,'Frequency')"
      ]
     },
     "execution_count": 101,
     "metadata": {},
     "output_type": "execute_result"
    },
    {
     "data": {
      "image/png": "[encoded data removed]",
      "text/plain": [
       "<Figure size 432x288 with 1 Axes>"
      ]
     },
     "metadata": {
      "needs_background": "light"
     },
     "output_type": "display_data"
    }
   ],
   "source": [
    "public_transportation.public_transportation_pct.hist()\n",
    "plt.title('Histogram of Public Transportation Percentage')\n",
    "plt.ylabel('Frequency')"
   ]
  },
  {
   "cell_type": "markdown",
   "metadata": {},
   "source": [
    "Most customers live in area with low public transportation usage. "
   ]
  },
  {
   "cell_type": "code",
   "execution_count": 102,
   "metadata": {},
   "outputs": [
    {
     "data": {
      "text/html": [
       "<div>\n",
       "<style scoped>\n",
       "    .dataframe tbody tr th:only-of-type {\n",
       "        vertical-align: middle;\n",
       "    }\n",
       "\n",
       "    .dataframe tbody tr th {\n",
       "        vertical-align: top;\n",
       "    }\n",
       "\n",
       "    .dataframe thead th {\n",
       "        text-align: right;\n",
       "    }\n",
       "</style>\n",
       "<table border=\"1\" class=\"dataframe\">\n",
       "  <thead>\n",
       "    <tr style=\"text-align: right;\">\n",
       "      <th></th>\n",
       "      <th>level_0</th>\n",
       "      <th>index</th>\n",
       "      <th>zip_code</th>\n",
       "      <th>public_transportation_pct</th>\n",
       "      <th>public_transportation_population</th>\n",
       "    </tr>\n",
       "  </thead>\n",
       "  <tbody>\n",
       "    <tr>\n",
       "      <th>0</th>\n",
       "      <td>0</td>\n",
       "      <td>0</td>\n",
       "      <td>1379</td>\n",
       "      <td>3.3</td>\n",
       "      <td>13</td>\n",
       "    </tr>\n",
       "    <tr>\n",
       "      <th>1</th>\n",
       "      <td>1</td>\n",
       "      <td>1</td>\n",
       "      <td>1440</td>\n",
       "      <td>0.4</td>\n",
       "      <td>34</td>\n",
       "    </tr>\n",
       "    <tr>\n",
       "      <th>2</th>\n",
       "      <td>2</td>\n",
       "      <td>2</td>\n",
       "      <td>1505</td>\n",
       "      <td>0.9</td>\n",
       "      <td>23</td>\n",
       "    </tr>\n",
       "    <tr>\n",
       "      <th>3</th>\n",
       "      <td>3</td>\n",
       "      <td>3</td>\n",
       "      <td>1524</td>\n",
       "      <td>0.5</td>\n",
       "      <td>20</td>\n",
       "    </tr>\n",
       "    <tr>\n",
       "      <th>4</th>\n",
       "      <td>4</td>\n",
       "      <td>4</td>\n",
       "      <td>1529</td>\n",
       "      <td>1.8</td>\n",
       "      <td>32</td>\n",
       "    </tr>\n",
       "  </tbody>\n",
       "</table>\n",
       "</div>"
      ],
      "text/plain": [
       "   level_0  index  zip_code  public_transportation_pct  \\\n",
       "0        0      0      1379                        3.3   \n",
       "1        1      1      1440                        0.4   \n",
       "2        2      2      1505                        0.9   \n",
       "3        3      3      1524                        0.5   \n",
       "4        4      4      1529                        1.8   \n",
       "\n",
       "   public_transportation_population  \n",
       "0                                13  \n",
       "1                                34  \n",
       "2                                23  \n",
       "3                                20  \n",
       "4                                32  "
      ]
     },
     "execution_count": 102,
     "metadata": {},
     "output_type": "execute_result"
    }
   ],
   "source": [
    "public_transportation.head()"
   ]
  },
  {
   "cell_type": "code",
   "execution_count": 105,
   "metadata": {},
   "outputs": [
    {
     "data": {
      "text/html": [
       "<div>\n",
       "<style scoped>\n",
       "    .dataframe tbody tr th:only-of-type {\n",
       "        vertical-align: middle;\n",
       "    }\n",
       "\n",
       "    .dataframe tbody tr th {\n",
       "        vertical-align: top;\n",
       "    }\n",
       "\n",
       "    .dataframe thead th {\n",
       "        text-align: right;\n",
       "    }\n",
       "</style>\n",
       "<table border=\"1\" class=\"dataframe\">\n",
       "  <thead>\n",
       "    <tr style=\"text-align: right;\">\n",
       "      <th></th>\n",
       "      <th>customer_id</th>\n",
       "      <th>product_id</th>\n",
       "      <th>sales_transaction_date</th>\n",
       "      <th>sales_amount</th>\n",
       "      <th>channel</th>\n",
       "      <th>dealership_id</th>\n",
       "    </tr>\n",
       "  </thead>\n",
       "  <tbody>\n",
       "    <tr>\n",
       "      <th>0</th>\n",
       "      <td>1</td>\n",
       "      <td>7</td>\n",
       "      <td>2017-07-19 08:38:41</td>\n",
       "      <td>479.992</td>\n",
       "      <td>internet</td>\n",
       "      <td>NaN</td>\n",
       "    </tr>\n",
       "    <tr>\n",
       "      <th>1</th>\n",
       "      <td>22</td>\n",
       "      <td>7</td>\n",
       "      <td>2017-08-14 09:59:02</td>\n",
       "      <td>599.990</td>\n",
       "      <td>dealership</td>\n",
       "      <td>20.0</td>\n",
       "    </tr>\n",
       "    <tr>\n",
       "      <th>2</th>\n",
       "      <td>145</td>\n",
       "      <td>7</td>\n",
       "      <td>2019-01-20 10:40:11</td>\n",
       "      <td>479.992</td>\n",
       "      <td>internet</td>\n",
       "      <td>NaN</td>\n",
       "    </tr>\n",
       "    <tr>\n",
       "      <th>3</th>\n",
       "      <td>289</td>\n",
       "      <td>7</td>\n",
       "      <td>2017-05-09 14:20:04</td>\n",
       "      <td>539.991</td>\n",
       "      <td>dealership</td>\n",
       "      <td>7.0</td>\n",
       "    </tr>\n",
       "    <tr>\n",
       "      <th>4</th>\n",
       "      <td>331</td>\n",
       "      <td>7</td>\n",
       "      <td>2019-05-21 20:03:21</td>\n",
       "      <td>539.991</td>\n",
       "      <td>dealership</td>\n",
       "      <td>4.0</td>\n",
       "    </tr>\n",
       "  </tbody>\n",
       "</table>\n",
       "</div>"
      ],
      "text/plain": [
       "   customer_id  product_id sales_transaction_date  sales_amount     channel  \\\n",
       "0            1           7    2017-07-19 08:38:41       479.992    internet   \n",
       "1           22           7    2017-08-14 09:59:02       599.990  dealership   \n",
       "2          145           7    2019-01-20 10:40:11       479.992    internet   \n",
       "3          289           7    2017-05-09 14:20:04       539.991  dealership   \n",
       "4          331           7    2019-05-21 20:03:21       539.991  dealership   \n",
       "\n",
       "   dealership_id  \n",
       "0            NaN  \n",
       "1           20.0  \n",
       "2            NaN  \n",
       "3            7.0  \n",
       "4            4.0  "
      ]
     },
     "execution_count": 105,
     "metadata": {},
     "output_type": "execute_result"
    }
   ],
   "source": [
    "sales.head()"
   ]
  },
  {
   "cell_type": "code",
   "execution_count": 109,
   "metadata": {},
   "outputs": [
    {
     "data": {
      "text/html": [
       "<div>\n",
       "<style scoped>\n",
       "    .dataframe tbody tr th:only-of-type {\n",
       "        vertical-align: middle;\n",
       "    }\n",
       "\n",
       "    .dataframe tbody tr th {\n",
       "        vertical-align: top;\n",
       "    }\n",
       "\n",
       "    .dataframe thead th {\n",
       "        text-align: right;\n",
       "    }\n",
       "</style>\n",
       "<table border=\"1\" class=\"dataframe\">\n",
       "  <thead>\n",
       "    <tr style=\"text-align: right;\">\n",
       "      <th></th>\n",
       "      <th>customer_id</th>\n",
       "      <th>product_id</th>\n",
       "      <th>sales_transaction_date</th>\n",
       "      <th>sales_amount</th>\n",
       "      <th>channel</th>\n",
       "      <th>dealership_id</th>\n",
       "    </tr>\n",
       "  </thead>\n",
       "  <tbody>\n",
       "    <tr>\n",
       "      <th>0</th>\n",
       "      <td>1</td>\n",
       "      <td>7</td>\n",
       "      <td>2017-07-19 08:38:41</td>\n",
       "      <td>479.992</td>\n",
       "      <td>internet</td>\n",
       "      <td>NaN</td>\n",
       "    </tr>\n",
       "    <tr>\n",
       "      <th>1</th>\n",
       "      <td>22</td>\n",
       "      <td>7</td>\n",
       "      <td>2017-08-14 09:59:02</td>\n",
       "      <td>599.990</td>\n",
       "      <td>dealership</td>\n",
       "      <td>20.0</td>\n",
       "    </tr>\n",
       "    <tr>\n",
       "      <th>2</th>\n",
       "      <td>145</td>\n",
       "      <td>7</td>\n",
       "      <td>2019-01-20 10:40:11</td>\n",
       "      <td>479.992</td>\n",
       "      <td>internet</td>\n",
       "      <td>NaN</td>\n",
       "    </tr>\n",
       "    <tr>\n",
       "      <th>3</th>\n",
       "      <td>289</td>\n",
       "      <td>7</td>\n",
       "      <td>2017-05-09 14:20:04</td>\n",
       "      <td>539.991</td>\n",
       "      <td>dealership</td>\n",
       "      <td>7.0</td>\n",
       "    </tr>\n",
       "    <tr>\n",
       "      <th>4</th>\n",
       "      <td>331</td>\n",
       "      <td>7</td>\n",
       "      <td>2019-05-21 20:03:21</td>\n",
       "      <td>539.991</td>\n",
       "      <td>dealership</td>\n",
       "      <td>4.0</td>\n",
       "    </tr>\n",
       "  </tbody>\n",
       "</table>\n",
       "</div>"
      ],
      "text/plain": [
       "   customer_id  product_id sales_transaction_date  sales_amount     channel  \\\n",
       "0            1           7    2017-07-19 08:38:41       479.992    internet   \n",
       "1           22           7    2017-08-14 09:59:02       599.990  dealership   \n",
       "2          145           7    2019-01-20 10:40:11       479.992    internet   \n",
       "3          289           7    2017-05-09 14:20:04       539.991  dealership   \n",
       "4          331           7    2019-05-21 20:03:21       539.991  dealership   \n",
       "\n",
       "   dealership_id  \n",
       "0            NaN  \n",
       "1           20.0  \n",
       "2            NaN  \n",
       "3            7.0  \n",
       "4            4.0  "
      ]
     },
     "execution_count": 109,
     "metadata": {},
     "output_type": "execute_result"
    }
   ],
   "source": [
    "pd.read_sql_query('''SELECT * FROM sales;''', engine).head()"
   ]
  },
  {
   "cell_type": "code",
   "execution_count": 107,
   "metadata": {},
   "outputs": [
    {
     "name": "stdout",
     "output_type": "stream",
     "text": [
      "closest_dealerships\n",
      "countries\n",
      "customer_sales\n",
      "customer_survey\n",
      "public_transportation_by_zip\n",
      "customers\n",
      "dealerships\n",
      "emails\n",
      "products\n",
      "sales\n",
      "salespeople\n",
      "public_transportation\n",
      "top_cities_data\n"
     ]
    }
   ],
   "source": [
    "# Tables listing\n",
    "inspector = inspect(engine)\n",
    "for table_name in inspector.get_table_names():\n",
    "    print(table_name)"
   ]
  },
  {
   "cell_type": "code",
   "execution_count": 112,
   "metadata": {},
   "outputs": [
    {
     "data": {
      "text/html": [
       "<div>\n",
       "<style scoped>\n",
       "    .dataframe tbody tr th:only-of-type {\n",
       "        vertical-align: middle;\n",
       "    }\n",
       "\n",
       "    .dataframe tbody tr th {\n",
       "        vertical-align: top;\n",
       "    }\n",
       "\n",
       "    .dataframe thead th {\n",
       "        text-align: right;\n",
       "    }\n",
       "</style>\n",
       "<table border=\"1\" class=\"dataframe\">\n",
       "  <thead>\n",
       "    <tr style=\"text-align: right;\">\n",
       "      <th></th>\n",
       "      <th>public_transport</th>\n",
       "      <th>sales_per_customer</th>\n",
       "    </tr>\n",
       "  </thead>\n",
       "  <tbody>\n",
       "    <tr>\n",
       "      <th>0</th>\n",
       "      <td>0.0</td>\n",
       "      <td>5.725681</td>\n",
       "    </tr>\n",
       "    <tr>\n",
       "      <th>1</th>\n",
       "      <td>10.0</td>\n",
       "      <td>5.865889</td>\n",
       "    </tr>\n",
       "    <tr>\n",
       "      <th>2</th>\n",
       "      <td>20.0</td>\n",
       "      <td>6.490179</td>\n",
       "    </tr>\n",
       "    <tr>\n",
       "      <th>3</th>\n",
       "      <td>30.0</td>\n",
       "      <td>7.050302</td>\n",
       "    </tr>\n",
       "    <tr>\n",
       "      <th>4</th>\n",
       "      <td>40.0</td>\n",
       "      <td>6.043796</td>\n",
       "    </tr>\n",
       "    <tr>\n",
       "      <th>5</th>\n",
       "      <td>50.0</td>\n",
       "      <td>9.650794</td>\n",
       "    </tr>\n",
       "  </tbody>\n",
       "</table>\n",
       "</div>"
      ],
      "text/plain": [
       "   public_transport  sales_per_customer\n",
       "0               0.0            5.725681\n",
       "1              10.0            5.865889\n",
       "2              20.0            6.490179\n",
       "3              30.0            7.050302\n",
       "4              40.0            6.043796\n",
       "5              50.0            9.650794"
      ]
     },
     "execution_count": 112,
     "metadata": {},
     "output_type": "execute_result"
    }
   ],
   "source": [
    "sales_count = pd.read_sql_query(''' SELECT\n",
    "   10 * ROUND(public_transportation_pct/10) AS public_transport,\n",
    "   COUNT(s.customer_id) * 1.0 / COUNT(DISTINCT c.customer_id) AS sales_per_customer\n",
    "  FROM customers c\n",
    "  INNER JOIN public_transportation_by_zip t ON t.zip_code = c.postal_code\n",
    "  LEFT JOIN sales s ON s.customer_id = c.customer_id\n",
    "  WHERE public_transportation_pct >= 0\n",
    "  GROUP BY 1\n",
    ";''', engine)\n",
    "sales_count"
   ]
  },
  {
   "cell_type": "code",
   "execution_count": 115,
   "metadata": {},
   "outputs": [
    {
     "data": {
      "text/plain": [
       "<matplotlib.axes._subplots.AxesSubplot at 0x1e152914710>"
      ]
     },
     "execution_count": 115,
     "metadata": {},
     "output_type": "execute_result"
    },
    {
     "data": {
      "image/png": "[encoded data removed]",
      "text/plain": [
       "<Figure size 432x288 with 1 Axes>"
      ]
     },
     "metadata": {
      "needs_background": "light"
     },
     "output_type": "display_data"
    }
   ],
   "source": [
    "sales_count.plot.scatter(x='public_transport', y='sales_per_customer')"
   ]
  },
  {
   "cell_type": "markdown",
   "metadata": {},
   "source": [
    "The scatter plot shows that there's a trend in increasing sale where there's increase in public_transportation usage. If the company wants to expand their operations, I would recommend they expand in areas with high public transport usage "
   ]
  }
 ],
 "metadata": {
  "hide_input": false,
  "kernelspec": {
   "display_name": "Python 3",
   "language": "python",
   "name": "python3"
  },
  "language_info": {
   "codemirror_mode": {
    "name": "ipython",
    "version": 3
   },
   "file_extension": ".py",
   "mimetype": "text/x-python",
   "name": "python",
   "nbconvert_exporter": "python",
   "pygments_lexer": "ipython3",
   "version": "3.7.1"
  },
  "toc": {
   "base_numbering": 1,
   "nav_menu": {},
   "number_sections": true,
   "sideBar": true,
   "skip_h1_title": false,
   "title_cell": "Table of Contents",
   "title_sidebar": "Contents",
   "toc_cell": false,
   "toc_position": {},
   "toc_section_display": true,
   "toc_window_display": false
  },
  "varInspector": {
   "cols": {
    "lenName": 16,
    "lenType": 16,
    "lenVar": 40
   },
   "kernels_config": {
    "python": {
     "delete_cmd_postfix": "",
     "delete_cmd_prefix": "del ",
     "library": "var_list.py",
     "varRefreshCmd": "print(var_dic_list())"
    },
    "r": {
     "delete_cmd_postfix": ") ",
     "delete_cmd_prefix": "rm(",
     "library": "var_list.r",
     "varRefreshCmd": "cat(var_dic_list()) "
    }
   },
   "types_to_exclude": [
    "module",
    "function",
    "builtin_function_or_method",
    "instance",
    "_Feature"
   ],
   "window_display": false
  }
 },
 "nbformat": 4,
 "nbformat_minor": 2
}
